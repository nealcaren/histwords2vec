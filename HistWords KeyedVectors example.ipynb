{
 "cells": [
  {
   "cell_type": "code",
   "execution_count": 1,
   "metadata": {},
   "outputs": [],
   "source": [
    "from gensim.models import KeyedVectors\n",
    "import pandas as pd"
   ]
  },
  {
   "cell_type": "code",
   "execution_count": 9,
   "metadata": {},
   "outputs": [
    {
     "data": {
      "text/plain": [
       "[('vivacious', 0.4350625276565552),\n",
       " ('gayest', 0.4158802330493927),\n",
       " ('cheerful', 0.3875654339790344),\n",
       " ('carefree', 0.38306689262390137),\n",
       " ('lussac', 0.3772587180137634),\n",
       " ('brereton', 0.3651302754878998),\n",
       " ('maroon', 0.36244961619377136),\n",
       " ('slipper', 0.3571937382221222),\n",
       " ('bright', 0.35464441776275635),\n",
       " ('tearful', 0.3499901592731476)]"
      ]
     },
     "execution_count": 9,
     "metadata": {},
     "output_type": "execute_result"
    }
   ],
   "source": [
    "m1970 = KeyedVectors.load_word2vec_format('KeyedVectors/1970-sm.bin',\n",
    "                                          binary=True)\n",
    "m1970.most_similar('gay')"
   ]
  },
  {
   "cell_type": "code",
   "execution_count": 11,
   "metadata": {},
   "outputs": [
    {
     "data": {
      "text/plain": [
       "[('lesbian', 0.4685295820236206),\n",
       " ('lesbians', 0.4404938519001007),\n",
       " ('homosexual', 0.38463717699050903),\n",
       " ('gayest', 0.3616555631160736),\n",
       " ('lussac', 0.36066848039627075),\n",
       " ('women', 0.35998159646987915),\n",
       " ('heterosexual', 0.3406875431537628),\n",
       " ('youth', 0.3184841275215149),\n",
       " ('young', 0.317452073097229),\n",
       " ('dubois', 0.3163811266422272)]"
      ]
     },
     "execution_count": 11,
     "metadata": {},
     "output_type": "execute_result"
    }
   ],
   "source": [
    "m1980 = KeyedVectors.load_word2vec_format('KeyedVectors/1980-sm.bin',\n",
    "                                          binary=True)\n",
    "m1980.most_similar('gay')"
   ]
  },
  {
   "cell_type": "code",
   "execution_count": 12,
   "metadata": {},
   "outputs": [
    {
     "data": {
      "image/png": "[encoded data removed]",
      "text/plain": [
       "<Figure size 432x288 with 1 Axes>"
      ]
     },
     "metadata": {
      "needs_background": "light"
     },
     "output_type": "display_data"
    }
   ],
   "source": [
    "# Plot correlations over time\n",
    "\n",
    "\n",
    "correlations = {}\n",
    "\n",
    "for year in range(1810,2000, 10):\n",
    "    fn = f'KeyedVectors/{year}-sm.bin'\n",
    "    model = KeyedVectors.load_word2vec_format(fn,\n",
    "                                              binary=True)\n",
    "    r = model.similarity('race','nation')\n",
    "    \n",
    "    \n",
    "    correlations[year] = r\n",
    "pd.Series(correlations).plot();"
   ]
  }
 ],
 "metadata": {
  "anaconda-cloud": {},
  "kernelspec": {
   "display_name": "Python 3",
   "language": "python",
   "name": "python3"
  },
  "language_info": {
   "codemirror_mode": {
    "name": "ipython",
    "version": 3
   },
   "file_extension": ".py",
   "mimetype": "text/x-python",
   "name": "python",
   "nbconvert_exporter": "python",
   "pygments_lexer": "ipython3",
   "version": "3.9.2"
  }
 },
 "nbformat": 4,
 "nbformat_minor": 2
}
